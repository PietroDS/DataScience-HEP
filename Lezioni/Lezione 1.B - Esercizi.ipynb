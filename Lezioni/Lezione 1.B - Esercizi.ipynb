{
 "cells": [
  {
   "cell_type": "markdown",
   "metadata": {},
   "source": [
    "# Lezione 1 - Esercizi\n",
    "\n",
    "#### Prendiamo dimestichezza con Python dentro al Jupyter Notebook e con le librerie per fare grafici.\n",
    "\n",
    "Provate a svolgere i seguenti esercizi: <br>\n",
    "1) [Fattoriale](#section1)<a href='#section1'></a> <br>\n",
    "2) [Serie di Fibonacci](#section2)<a href='#section2'></a><br>\n",
    "3) [Esempio di Plot](#section3)<a href='#section3'></a> <br>\n",
    "4) [Esercizio di Plot di un file root](#section4)<a href='#section4'></a> <br>\n"
   ]
  },
  {
   "cell_type": "markdown",
   "metadata": {},
   "source": [
    "<a id='section1'></a>\n",
    "## 1) Fattoriale"
   ]
  },
  {
   "cell_type": "markdown",
   "metadata": {},
   "source": [
    "Scrivere in Python una funzione fatt che calcola il fattoriale di un numero dato come parametro. <br>\n",
    "Se siete coraggiosi provate a scriverla ricorsiva!"
   ]
  },
  {
   "cell_type": "code",
   "execution_count": 2,
   "metadata": {
    "scrolled": false
   },
   "outputs": [],
   "source": [
    "def fatt(d):\n",
    "    \"\"\" La funzione calcola il fattoriale del numero d passato come parametro.\n",
    "    La funzione restituisce -1 in caso di errore.\n",
    "    \n",
    "    >>> fatt(6)\n",
    "    720\n",
    "    \"\"\"\n",
    "    \n",
    "    # Resto della funzione, da scrivere!\n",
    "\n",
    "\n",
    "fatt(6)"
   ]
  },
  {
   "cell_type": "markdown",
   "metadata": {},
   "source": [
    "<a id='section2'></a>\n",
    "## 2) Serie di Fibonacci"
   ]
  },
  {
   "cell_type": "markdown",
   "metadata": {},
   "source": [
    "Scrivere una funzione Python che restituisce i primi n numeri della serie di Fibonacci."
   ]
  },
  {
   "cell_type": "code",
   "execution_count": 4,
   "metadata": {},
   "outputs": [],
   "source": [
    "def fibonacci(nterms):\n",
    "    \"\"\" La funzione restituisce una lista con i primi nterms numeri della serie di Fibonacci.\n",
    "    \n",
    "    >>> fibonacci(10)\n",
    "    [0, 1, 1, 2, 3, 5, 8, 13, 21, 34]\n",
    "    \"\"\"\n",
    "    \n",
    "    # Resto della funzione, da scrivere!\n",
    "\n",
    "    \n",
    "fibonacci(10)"
   ]
  },
  {
   "cell_type": "markdown",
   "metadata": {},
   "source": [
    "<a id='section3'></a>\n",
    "## 3) Esempio di plot"
   ]
  },
  {
   "cell_type": "markdown",
   "metadata": {},
   "source": [
    "Per fare dei grafici è possibile utilizzare la libreria `matplotlib`."
   ]
  },
  {
   "cell_type": "code",
   "execution_count": 4,
   "metadata": {},
   "outputs": [],
   "source": [
    "import numpy as np\n",
    "import matplotlib.pyplot as plt"
   ]
  },
  {
   "cell_type": "code",
   "execution_count": 30,
   "metadata": {},
   "outputs": [
    {
     "name": "stdout",
     "output_type": "stream",
     "text": [
      "Help on function linspace in module numpy.core.function_base:\n",
      "\n",
      "linspace(start, stop, num=50, endpoint=True, retstep=False, dtype=None)\n",
      "    Return evenly spaced numbers over a specified interval.\n",
      "    \n",
      "    Returns `num` evenly spaced samples, calculated over the\n",
      "    interval [`start`, `stop`].\n",
      "    \n",
      "    The endpoint of the interval can optionally be excluded.\n",
      "    \n",
      "    Parameters\n",
      "    ----------\n",
      "    start : scalar\n",
      "        The starting value of the sequence.\n",
      "    stop : scalar\n",
      "        The end value of the sequence, unless `endpoint` is set to False.\n",
      "        In that case, the sequence consists of all but the last of ``num + 1``\n",
      "        evenly spaced samples, so that `stop` is excluded.  Note that the step\n",
      "        size changes when `endpoint` is False.\n",
      "    num : int, optional\n",
      "        Number of samples to generate. Default is 50. Must be non-negative.\n",
      "    endpoint : bool, optional\n",
      "        If True, `stop` is the last sample. Otherwise, it is not included.\n",
      "        Default is True.\n",
      "    retstep : bool, optional\n",
      "        If True, return (`samples`, `step`), where `step` is the spacing\n",
      "        between samples.\n",
      "    dtype : dtype, optional\n",
      "        The type of the output array.  If `dtype` is not given, infer the data\n",
      "        type from the other input arguments.\n",
      "    \n",
      "        .. versionadded:: 1.9.0\n",
      "    \n",
      "    Returns\n",
      "    -------\n",
      "    samples : ndarray\n",
      "        There are `num` equally spaced samples in the closed interval\n",
      "        ``[start, stop]`` or the half-open interval ``[start, stop)``\n",
      "        (depending on whether `endpoint` is True or False).\n",
      "    step : float, optional\n",
      "        Only returned if `retstep` is True\n",
      "    \n",
      "        Size of spacing between samples.\n",
      "    \n",
      "    \n",
      "    See Also\n",
      "    --------\n",
      "    arange : Similar to `linspace`, but uses a step size (instead of the\n",
      "             number of samples).\n",
      "    logspace : Samples uniformly distributed in log space.\n",
      "    \n",
      "    Examples\n",
      "    --------\n",
      "    >>> np.linspace(2.0, 3.0, num=5)\n",
      "    array([ 2.  ,  2.25,  2.5 ,  2.75,  3.  ])\n",
      "    >>> np.linspace(2.0, 3.0, num=5, endpoint=False)\n",
      "    array([ 2. ,  2.2,  2.4,  2.6,  2.8])\n",
      "    >>> np.linspace(2.0, 3.0, num=5, retstep=True)\n",
      "    (array([ 2.  ,  2.25,  2.5 ,  2.75,  3.  ]), 0.25)\n",
      "    \n",
      "    Graphical illustration:\n",
      "    \n",
      "    >>> import matplotlib.pyplot as plt\n",
      "    >>> N = 8\n",
      "    >>> y = np.zeros(N)\n",
      "    >>> x1 = np.linspace(0, 10, N, endpoint=True)\n",
      "    >>> x2 = np.linspace(0, 10, N, endpoint=False)\n",
      "    >>> plt.plot(x1, y, 'o')\n",
      "    [<matplotlib.lines.Line2D object at 0x...>]\n",
      "    >>> plt.plot(x2, y + 0.5, 'o')\n",
      "    [<matplotlib.lines.Line2D object at 0x...>]\n",
      "    >>> plt.ylim([-0.5, 1])\n",
      "    (-0.5, 1)\n",
      "    >>> plt.show()\n",
      "\n"
     ]
    }
   ],
   "source": [
    "help(np.linspace)"
   ]
  },
  {
   "cell_type": "code",
   "execution_count": 5,
   "metadata": {},
   "outputs": [],
   "source": [
    "x1 = np.linspace(0.0, 5.0)\n",
    "x2 = np.linspace(0.0, 2.0)\n",
    "\n",
    "y1 = np.cos(2 * np.pi * x1) * np.exp(-x1)\n",
    "y2 = np.cos(2 * np.pi * x2)"
   ]
  },
  {
   "cell_type": "code",
   "execution_count": 16,
   "metadata": {
    "scrolled": true
   },
   "outputs": [],
   "source": [
    "# Disegnare i grafici utilizzando pyplot"
   ]
  },
  {
   "cell_type": "markdown",
   "metadata": {},
   "source": [
    "<a id='section4'></a>\n",
    "## 4) Esercizio di Plot di un file root"
   ]
  },
  {
   "cell_type": "markdown",
   "metadata": {},
   "source": [
    "In questo esercizio utilizzeremo anche una libreria aggiuntiva che si chiama `uproot` e che serve a leggere i files in formato root."
   ]
  },
  {
   "cell_type": "code",
   "execution_count": 23,
   "metadata": {},
   "outputs": [
    {
     "name": "stdout",
     "output_type": "stream",
     "text": [
      "Requirement already satisfied: uproot in c:\\programdata\\anaconda3\\lib\\site-packages (3.4.10)\n",
      "Requirement already satisfied: numpy>=1.13.1 in c:\\programdata\\anaconda3\\lib\\site-packages (from uproot) (1.15.4)\n",
      "Requirement already satisfied: cachetools in c:\\programdata\\anaconda3\\lib\\site-packages (from uproot) (3.1.0)\n",
      "Requirement already satisfied: awkward>=0.8.0 in c:\\programdata\\anaconda3\\lib\\site-packages (from uproot) (0.8.6)\n",
      "Requirement already satisfied: uproot-methods>=0.4.0 in c:\\programdata\\anaconda3\\lib\\site-packages (from uproot) (0.4.3)\n"
     ]
    }
   ],
   "source": [
    "!pip install uproot"
   ]
  },
  {
   "cell_type": "code",
   "execution_count": 17,
   "metadata": {},
   "outputs": [
    {
     "name": "stdout",
     "output_type": "stream",
     "text": [
      "       b'f_mass4l'  b'f_massjj'\n",
      "0        91.098129  -999.000000\n",
      "1       201.847610  -999.000000\n",
      "2        89.279076  -999.000000\n",
      "3       586.597412  1353.025513\n",
      "4       135.589798  -999.000000\n",
      "5       734.903442  -999.000000\n",
      "6       341.958466  -999.000000\n",
      "7       254.073425   111.907364\n",
      "8       209.200073  -999.000000\n",
      "9       118.208359  -999.000000\n",
      "10      249.034500  -999.000000\n",
      "11      152.691574  -999.000000\n",
      "12      217.140778  -999.000000\n",
      "13       97.824753  -999.000000\n",
      "14      381.590332  -999.000000\n",
      "15      264.585419  -999.000000\n",
      "16      193.972916  -999.000000\n",
      "17      310.875885  -999.000000\n",
      "18      178.564941  -999.000000\n",
      "19      222.176819  -999.000000\n",
      "20      301.437988  -999.000000\n",
      "21       91.169418  -999.000000\n",
      "22      473.301605  -999.000000\n",
      "23      199.354355  -999.000000\n",
      "24       89.634506  -999.000000\n",
      "25       94.224663  -999.000000\n",
      "26       90.380257  -999.000000\n",
      "27      126.852921  -999.000000\n",
      "28      280.004089   147.763611\n",
      "29      231.275574  -999.000000\n",
      "...            ...          ...\n",
      "58077   238.749847  -999.000000\n",
      "58078   248.517776  -999.000000\n",
      "58079   195.696304  -999.000000\n",
      "58080   101.240829  -999.000000\n",
      "58081   256.388489  -999.000000\n",
      "58082   221.203857  -999.000000\n",
      "58083   204.776276  -999.000000\n",
      "58084   320.152130  -999.000000\n",
      "58085    90.781563  -999.000000\n",
      "58086   186.158600  -999.000000\n",
      "58087    89.782616  -999.000000\n",
      "58088   199.261490  -999.000000\n",
      "58089   186.380890  -999.000000\n",
      "58090   235.331329  -999.000000\n",
      "58091   244.582077  -999.000000\n",
      "58092   149.849808  -999.000000\n",
      "58093   235.621552  -999.000000\n",
      "58094    90.335609  -999.000000\n",
      "58095   212.593323  -999.000000\n",
      "58096   261.331818  -999.000000\n",
      "58097   225.355103  -999.000000\n",
      "58098   214.074249  -999.000000\n",
      "58099    90.977837  -999.000000\n",
      "58100    88.950447  -999.000000\n",
      "58101    90.992607  -999.000000\n",
      "58102    89.582817  -999.000000\n",
      "58103   252.845184  -999.000000\n",
      "58104    90.129845  -999.000000\n",
      "58105   250.977417  -999.000000\n",
      "58106   229.470154  -999.000000\n",
      "\n",
      "[58107 rows x 2 columns]\n"
     ]
    }
   ],
   "source": [
    "import uproot\n",
    "import numpy as np\n",
    "import pandas as pd\n",
    "import h5py\n",
    "import matplotlib.pyplot as plt\n",
    "%matplotlib inline\n",
    "\n",
    "treename = 'HZZ4LeptonsAnalysisReduced'\n",
    "filename ='data/ntuple_4mu_bkg.root'\n",
    "\n",
    "upfile = uproot.open(filename)\n",
    "params = upfile[treename].arrays() # dictionary of NumPy arrays\n",
    "\n",
    "VARS = [b'f_mass4l', b'f_massjj']\n",
    "df = pd.DataFrame(params, columns=VARS)\n",
    "print (df)"
   ]
  },
  {
   "cell_type": "code",
   "execution_count": 40,
   "metadata": {},
   "outputs": [],
   "source": [
    "# Disegnare il grafico utilizzando pyplot"
   ]
  },
  {
   "cell_type": "markdown",
   "metadata": {},
   "source": [
    "[Clicca qui per tornare all'inizio della pagina](#start)<a id='start'></a>"
   ]
  }
 ],
 "metadata": {
  "kernelspec": {
   "display_name": "Python 3",
   "language": "python",
   "name": "python3"
  },
  "language_info": {
   "codemirror_mode": {
    "name": "ipython",
    "version": 3
   },
   "file_extension": ".py",
   "mimetype": "text/x-python",
   "name": "python",
   "nbconvert_exporter": "python",
   "pygments_lexer": "ipython3",
   "version": "3.7.1"
  }
 },
 "nbformat": 4,
 "nbformat_minor": 2
}
