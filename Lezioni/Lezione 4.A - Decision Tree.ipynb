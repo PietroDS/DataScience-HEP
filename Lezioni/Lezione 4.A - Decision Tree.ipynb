{
 "cells": [
  {
   "cell_type": "markdown",
   "metadata": {},
   "source": [
    "<a id='start'></a>\n",
    "# Decision Tree\n",
    "\n",
    "In questo notebook viene spiegato cosa sono e come possiamo realizzare dei Decision Tree con Python. <br>\n",
    "<br>\n",
    "Il notebook è suddiviso nelle seguenti sezioni:<br>\n",
    "- [Definizione](#section1)\n",
    "- [Esempio](#section2)\n",
    "- [Lavoriamo con Python](#section3)"
   ]
  },
  {
   "cell_type": "markdown",
   "metadata": {},
   "source": [
    "<a id='section1'></a>\n",
    "## Definizione"
   ]
  },
  {
   "cell_type": "markdown",
   "metadata": {},
   "source": [
    "I Decision Tree sono dei classificatori che utilizzano il ML supervisionato e che con meccanismi probabilistici offorono supporto nei problemi di decisione. \n",
    "\n",
    "Come ogni altro classificatore, i DT sono in grado di predirre un etichetta per un set di dati di esempio. I DT realizzano questo compito esaminando i risultati probabilistici delle caratteristiche dei dati di esempio.\n",
    "\n",
    "\n",
    "I Decision Tree hanno alcune caratteristiche che li rendono unici:\n",
    "- Il decision tree è strutturato come un diagramma a flowchart. Ha un solo nodo radice da cui parte la valutazione e può contenere uno o più nodi foglie e diversi nodi interni;\n",
    "- Ogni nodo del decision tree rappresenta il test di una singola feature dei dati in ingresso. Per esempio, si può verificare se una feature chiamata *age* sia o meno maggiore di 18;\n",
    "- Ogni bivio nel decision tree connette due nodi, un nodo originario e uno di destinazione. Un bivio rappresenta un risultato del test effettuato sul nodo padre. Nel nostro esempio, se stiamo testando *age > 18*, possiamo avere due possibili bivi: True e False. Ognuno di questi due bivi connetterà il nodo che descrive il test *age > 18 node* con altri due nodi di destinazione.\n",
    "- Ogni nodo foglia dell'albero di decisione rappresenta una classificazione. L'obiettivo dell'albero è quello di dare un'etichetta ai dati di input e quindi ogni foglia rappresenta l'etichetta assegnata al dato passato nell'albero di decisione."
   ]
  },
  {
   "cell_type": "markdown",
   "metadata": {},
   "source": [
    "<a id='section2'></a>\n",
    "## Esempio"
   ]
  },
  {
   "cell_type": "markdown",
   "metadata": {},
   "source": [
    "Un insegnante ritiene che ci debba essere una relazione tra il livello di salute dei suoi studenti, il numero di ore di studio e i voti finali. <br>\n",
    "Per decidere la correlazione, chiede a 75 dei suoi studenti quante ore a\n",
    "settimana passano a studiare. Sembra ragionevole iniziare con questa domanda, in quanto dovrebbe avere il maggior impatto sui loro voti. <br>\n",
    "\n",
    "<img src='img/histogram.jpg'> <br>\n",
    "\n",
    "Fantastico! L'insegnante nota che il 100% degli studenti in difficoltà studia meno di 2,5 ore settimanali. Altrettanto interessante è notare che tra gli studenti che passano il corso, alcuni di loro studiano molto, altri ancora studiano solo a un livello medio. Per classificare correttamente questi studenti, sono sicuramente necessari più dati.\n",
    "\n",
    "Essendo curioso, l'insegnante chiede agli studenti un'altra domanda: quanto sono attenti alla loro salute, in special modo relativamente al cibo che mangiano, su una scala da 1 a 5? Preferiscono del junk food (1) o mangiare una salutare mela (5)? <br>\n",
    "\n",
    "<img src=\"img/decision_tree.jpg\"> <br>\n",
    "\n",
    "Gli studenti iniziano a rispondere e qualcosa attira l'attenzione dell'insegnante. Con una sola eccezione, ogni singolo studente che non prende sul serio le proprie abitudini alimentari e di salute, rispondendo con meno di 3,3 al sondaggio con scala 5, ha voti più bassi.\n",
    "\n",
    "Come l'insegnante continua a fare domande per scoprire maggiori dettagli sui suoi studenti, noi possiamo classificarli con maggior correttezza. Questo procedimento costruisce alberi decisionali che permettono di tagliare con crescente precisione lo spazio delle caratteristiche delle osservazioni per purificare la classe dei campioni.\n",
    "\n",
    "Questo è come potrebbe apparire un albero decisionale per l'esempio sopra riportato:\n",
    "\n",
    "<img src=\"img/decision_tree_1.jpg\"> <br>\n",
    "\n",
    "Il nodo radice inizia con tutti gli esempi. I valori [25, 25, 25] rappresentano tutti gli studenti dell'insegnante che appartengono a tre classi: scansafatiche, medio e secchione, in quest'ordine.\n",
    "\n",
    "Al primo nodo, c'è un alto livello di impurità.  La funzione considerata dal nodo radice è il numero di ore trascorse a studiare a settimana e la decisione presa è <= 2.45 o superiore.\n",
    "\n",
    "In questo albero, ogni ramo sinistro rappresenta una risposta True alla domanda decisionale, e ogni ramo destro è una risposta False. Gli studenti che trascorrono <= 2,45 ore alla settimana appartengono tutti alla prima classe, valore = [25, 0, 0] e quindi il ramo ha un'impurezza di 0,0.\n",
    "\n",
    "Gli studenti che trascorrono più di 2,45 ore a settimana studiando compongono il resto del corpo studentesco. Gli studenti in questo caso si dividono esattamente a metà tra le due classi.\n",
    "\n",
    "In altre parole, questo ramo ha valori molto mischiati. Una ulteriore classificazione binaria può essere possibile. Ecco perché l'impurità è impostata al 100% qui. Ma testando la funzione di consapevolezza della salute, l'insegnante è in grado di purificare considerevolmente le selezioni risultanti, in modo tale che solo un campione di uno studente sia classificato erroneamente su entrambi i lati."
   ]
  },
  {
   "cell_type": "markdown",
   "metadata": {},
   "source": [
    "<a id='section3'></a>\n",
    "## Lavoriamo con Python"
   ]
  },
  {
   "cell_type": "code",
   "execution_count": 1,
   "metadata": {},
   "outputs": [],
   "source": [
    "import pandas as pd\n",
    "\n",
    "from sklearn import tree\n",
    "from sklearn.tree import DecisionTreeClassifier"
   ]
  },
  {
   "cell_type": "markdown",
   "metadata": {},
   "source": [
    "Importiamo un dataset sui funghi dove le diverse specie sono classificate tra commesibili, velenose, di commestibilità sconosciuta o non raccomandate.\n",
    "\n",
    "Informazioni sul dataset possono essere [trovate qui](https://archive.ics.uci.edu/ml/machine-learning-databases/mushroom/agaricus-lepiota.names).\n",
    "\n",
    "Carichiamo il dataset di funghi in X e verifichiamo di averlo fatto correttamente e di non aver incluso alcuna funzione che chiaramente non dovrebbe far parte del set di dati."
   ]
  },
  {
   "cell_type": "code",
   "execution_count": 2,
   "metadata": {},
   "outputs": [
    {
     "data": {
      "text/html": [
       "<div>\n",
       "<style scoped>\n",
       "    .dataframe tbody tr th:only-of-type {\n",
       "        vertical-align: middle;\n",
       "    }\n",
       "\n",
       "    .dataframe tbody tr th {\n",
       "        vertical-align: top;\n",
       "    }\n",
       "\n",
       "    .dataframe thead th {\n",
       "        text-align: right;\n",
       "    }\n",
       "</style>\n",
       "<table border=\"1\" class=\"dataframe\">\n",
       "  <thead>\n",
       "    <tr style=\"text-align: right;\">\n",
       "      <th></th>\n",
       "      <th>p</th>\n",
       "      <th>x</th>\n",
       "      <th>s</th>\n",
       "      <th>n</th>\n",
       "      <th>t</th>\n",
       "      <th>p.1</th>\n",
       "      <th>f</th>\n",
       "      <th>c</th>\n",
       "      <th>n.1</th>\n",
       "      <th>k</th>\n",
       "      <th>...</th>\n",
       "      <th>s.2</th>\n",
       "      <th>w</th>\n",
       "      <th>w.1</th>\n",
       "      <th>p.2</th>\n",
       "      <th>w.2</th>\n",
       "      <th>o</th>\n",
       "      <th>p.3</th>\n",
       "      <th>k.1</th>\n",
       "      <th>s.3</th>\n",
       "      <th>u</th>\n",
       "    </tr>\n",
       "  </thead>\n",
       "  <tbody>\n",
       "    <tr>\n",
       "      <th>0</th>\n",
       "      <td>e</td>\n",
       "      <td>x</td>\n",
       "      <td>s</td>\n",
       "      <td>y</td>\n",
       "      <td>t</td>\n",
       "      <td>a</td>\n",
       "      <td>f</td>\n",
       "      <td>c</td>\n",
       "      <td>b</td>\n",
       "      <td>k</td>\n",
       "      <td>...</td>\n",
       "      <td>s</td>\n",
       "      <td>w</td>\n",
       "      <td>w</td>\n",
       "      <td>p</td>\n",
       "      <td>w</td>\n",
       "      <td>o</td>\n",
       "      <td>p</td>\n",
       "      <td>n</td>\n",
       "      <td>n</td>\n",
       "      <td>g</td>\n",
       "    </tr>\n",
       "    <tr>\n",
       "      <th>1</th>\n",
       "      <td>e</td>\n",
       "      <td>b</td>\n",
       "      <td>s</td>\n",
       "      <td>w</td>\n",
       "      <td>t</td>\n",
       "      <td>l</td>\n",
       "      <td>f</td>\n",
       "      <td>c</td>\n",
       "      <td>b</td>\n",
       "      <td>n</td>\n",
       "      <td>...</td>\n",
       "      <td>s</td>\n",
       "      <td>w</td>\n",
       "      <td>w</td>\n",
       "      <td>p</td>\n",
       "      <td>w</td>\n",
       "      <td>o</td>\n",
       "      <td>p</td>\n",
       "      <td>n</td>\n",
       "      <td>n</td>\n",
       "      <td>m</td>\n",
       "    </tr>\n",
       "    <tr>\n",
       "      <th>2</th>\n",
       "      <td>p</td>\n",
       "      <td>x</td>\n",
       "      <td>y</td>\n",
       "      <td>w</td>\n",
       "      <td>t</td>\n",
       "      <td>p</td>\n",
       "      <td>f</td>\n",
       "      <td>c</td>\n",
       "      <td>n</td>\n",
       "      <td>n</td>\n",
       "      <td>...</td>\n",
       "      <td>s</td>\n",
       "      <td>w</td>\n",
       "      <td>w</td>\n",
       "      <td>p</td>\n",
       "      <td>w</td>\n",
       "      <td>o</td>\n",
       "      <td>p</td>\n",
       "      <td>k</td>\n",
       "      <td>s</td>\n",
       "      <td>u</td>\n",
       "    </tr>\n",
       "    <tr>\n",
       "      <th>3</th>\n",
       "      <td>e</td>\n",
       "      <td>x</td>\n",
       "      <td>s</td>\n",
       "      <td>g</td>\n",
       "      <td>f</td>\n",
       "      <td>n</td>\n",
       "      <td>f</td>\n",
       "      <td>w</td>\n",
       "      <td>b</td>\n",
       "      <td>k</td>\n",
       "      <td>...</td>\n",
       "      <td>s</td>\n",
       "      <td>w</td>\n",
       "      <td>w</td>\n",
       "      <td>p</td>\n",
       "      <td>w</td>\n",
       "      <td>o</td>\n",
       "      <td>e</td>\n",
       "      <td>n</td>\n",
       "      <td>a</td>\n",
       "      <td>g</td>\n",
       "    </tr>\n",
       "    <tr>\n",
       "      <th>4</th>\n",
       "      <td>e</td>\n",
       "      <td>x</td>\n",
       "      <td>y</td>\n",
       "      <td>y</td>\n",
       "      <td>t</td>\n",
       "      <td>a</td>\n",
       "      <td>f</td>\n",
       "      <td>c</td>\n",
       "      <td>b</td>\n",
       "      <td>n</td>\n",
       "      <td>...</td>\n",
       "      <td>s</td>\n",
       "      <td>w</td>\n",
       "      <td>w</td>\n",
       "      <td>p</td>\n",
       "      <td>w</td>\n",
       "      <td>o</td>\n",
       "      <td>p</td>\n",
       "      <td>k</td>\n",
       "      <td>n</td>\n",
       "      <td>g</td>\n",
       "    </tr>\n",
       "  </tbody>\n",
       "</table>\n",
       "<p>5 rows × 23 columns</p>\n",
       "</div>"
      ],
      "text/plain": [
       "   p  x  s  n  t p.1  f  c n.1  k ... s.2  w w.1 p.2 w.2  o p.3 k.1 s.3  u\n",
       "0  e  x  s  y  t   a  f  c   b  k ...   s  w   w   p   w  o   p   n   n  g\n",
       "1  e  b  s  w  t   l  f  c   b  n ...   s  w   w   p   w  o   p   n   n  m\n",
       "2  p  x  y  w  t   p  f  c   n  n ...   s  w   w   p   w  o   p   k   s  u\n",
       "3  e  x  s  g  f   n  f  w   b  k ...   s  w   w   p   w  o   e   n   a  g\n",
       "4  e  x  y  y  t   a  f  c   b  n ...   s  w   w   p   w  o   p   k   n  g\n",
       "\n",
       "[5 rows x 23 columns]"
      ]
     },
     "execution_count": 2,
     "metadata": {},
     "output_type": "execute_result"
    }
   ],
   "source": [
    "X = pd.read_csv(\"data/agaricus-lepiota.data\", na_values='?')\n",
    "X.head()"
   ]
  },
  {
   "cell_type": "markdown",
   "metadata": {},
   "source": [
    "I dati non hanno intestazione. Fixiamo questo problema leggendo i riferimenti nel link fornito precedentemente."
   ]
  },
  {
   "cell_type": "code",
   "execution_count": 3,
   "metadata": {},
   "outputs": [
    {
     "data": {
      "text/html": [
       "<div>\n",
       "<style scoped>\n",
       "    .dataframe tbody tr th:only-of-type {\n",
       "        vertical-align: middle;\n",
       "    }\n",
       "\n",
       "    .dataframe tbody tr th {\n",
       "        vertical-align: top;\n",
       "    }\n",
       "\n",
       "    .dataframe thead th {\n",
       "        text-align: right;\n",
       "    }\n",
       "</style>\n",
       "<table border=\"1\" class=\"dataframe\">\n",
       "  <thead>\n",
       "    <tr style=\"text-align: right;\">\n",
       "      <th></th>\n",
       "      <th>classification</th>\n",
       "      <th>cap_shape</th>\n",
       "      <th>cap_surface</th>\n",
       "      <th>cap_color</th>\n",
       "      <th>bruises</th>\n",
       "      <th>odor</th>\n",
       "      <th>gill_attachment</th>\n",
       "      <th>gill_spacing</th>\n",
       "      <th>gill_size</th>\n",
       "      <th>gill_color</th>\n",
       "      <th>...</th>\n",
       "      <th>stalk_surface_below_ring</th>\n",
       "      <th>stalk_color_above_ring</th>\n",
       "      <th>stalk_color_below_ring</th>\n",
       "      <th>veil_type</th>\n",
       "      <th>veil_color</th>\n",
       "      <th>ring_number</th>\n",
       "      <th>ring_type</th>\n",
       "      <th>spore_print_color</th>\n",
       "      <th>population</th>\n",
       "      <th>habitat</th>\n",
       "    </tr>\n",
       "  </thead>\n",
       "  <tbody>\n",
       "    <tr>\n",
       "      <th>0</th>\n",
       "      <td>e</td>\n",
       "      <td>x</td>\n",
       "      <td>s</td>\n",
       "      <td>y</td>\n",
       "      <td>t</td>\n",
       "      <td>a</td>\n",
       "      <td>f</td>\n",
       "      <td>c</td>\n",
       "      <td>b</td>\n",
       "      <td>k</td>\n",
       "      <td>...</td>\n",
       "      <td>s</td>\n",
       "      <td>w</td>\n",
       "      <td>w</td>\n",
       "      <td>p</td>\n",
       "      <td>w</td>\n",
       "      <td>o</td>\n",
       "      <td>p</td>\n",
       "      <td>n</td>\n",
       "      <td>n</td>\n",
       "      <td>g</td>\n",
       "    </tr>\n",
       "    <tr>\n",
       "      <th>1</th>\n",
       "      <td>e</td>\n",
       "      <td>b</td>\n",
       "      <td>s</td>\n",
       "      <td>w</td>\n",
       "      <td>t</td>\n",
       "      <td>l</td>\n",
       "      <td>f</td>\n",
       "      <td>c</td>\n",
       "      <td>b</td>\n",
       "      <td>n</td>\n",
       "      <td>...</td>\n",
       "      <td>s</td>\n",
       "      <td>w</td>\n",
       "      <td>w</td>\n",
       "      <td>p</td>\n",
       "      <td>w</td>\n",
       "      <td>o</td>\n",
       "      <td>p</td>\n",
       "      <td>n</td>\n",
       "      <td>n</td>\n",
       "      <td>m</td>\n",
       "    </tr>\n",
       "    <tr>\n",
       "      <th>2</th>\n",
       "      <td>p</td>\n",
       "      <td>x</td>\n",
       "      <td>y</td>\n",
       "      <td>w</td>\n",
       "      <td>t</td>\n",
       "      <td>p</td>\n",
       "      <td>f</td>\n",
       "      <td>c</td>\n",
       "      <td>n</td>\n",
       "      <td>n</td>\n",
       "      <td>...</td>\n",
       "      <td>s</td>\n",
       "      <td>w</td>\n",
       "      <td>w</td>\n",
       "      <td>p</td>\n",
       "      <td>w</td>\n",
       "      <td>o</td>\n",
       "      <td>p</td>\n",
       "      <td>k</td>\n",
       "      <td>s</td>\n",
       "      <td>u</td>\n",
       "    </tr>\n",
       "    <tr>\n",
       "      <th>3</th>\n",
       "      <td>e</td>\n",
       "      <td>x</td>\n",
       "      <td>s</td>\n",
       "      <td>g</td>\n",
       "      <td>f</td>\n",
       "      <td>n</td>\n",
       "      <td>f</td>\n",
       "      <td>w</td>\n",
       "      <td>b</td>\n",
       "      <td>k</td>\n",
       "      <td>...</td>\n",
       "      <td>s</td>\n",
       "      <td>w</td>\n",
       "      <td>w</td>\n",
       "      <td>p</td>\n",
       "      <td>w</td>\n",
       "      <td>o</td>\n",
       "      <td>e</td>\n",
       "      <td>n</td>\n",
       "      <td>a</td>\n",
       "      <td>g</td>\n",
       "    </tr>\n",
       "    <tr>\n",
       "      <th>4</th>\n",
       "      <td>e</td>\n",
       "      <td>x</td>\n",
       "      <td>y</td>\n",
       "      <td>y</td>\n",
       "      <td>t</td>\n",
       "      <td>a</td>\n",
       "      <td>f</td>\n",
       "      <td>c</td>\n",
       "      <td>b</td>\n",
       "      <td>n</td>\n",
       "      <td>...</td>\n",
       "      <td>s</td>\n",
       "      <td>w</td>\n",
       "      <td>w</td>\n",
       "      <td>p</td>\n",
       "      <td>w</td>\n",
       "      <td>o</td>\n",
       "      <td>p</td>\n",
       "      <td>k</td>\n",
       "      <td>n</td>\n",
       "      <td>g</td>\n",
       "    </tr>\n",
       "  </tbody>\n",
       "</table>\n",
       "<p>5 rows × 23 columns</p>\n",
       "</div>"
      ],
      "text/plain": [
       "  classification cap_shape cap_surface cap_color bruises odor gill_attachment  \\\n",
       "0              e         x           s         y       t    a               f   \n",
       "1              e         b           s         w       t    l               f   \n",
       "2              p         x           y         w       t    p               f   \n",
       "3              e         x           s         g       f    n               f   \n",
       "4              e         x           y         y       t    a               f   \n",
       "\n",
       "  gill_spacing gill_size gill_color   ...   stalk_surface_below_ring  \\\n",
       "0            c         b          k   ...                          s   \n",
       "1            c         b          n   ...                          s   \n",
       "2            c         n          n   ...                          s   \n",
       "3            w         b          k   ...                          s   \n",
       "4            c         b          n   ...                          s   \n",
       "\n",
       "  stalk_color_above_ring stalk_color_below_ring veil_type veil_color  \\\n",
       "0                      w                      w         p          w   \n",
       "1                      w                      w         p          w   \n",
       "2                      w                      w         p          w   \n",
       "3                      w                      w         p          w   \n",
       "4                      w                      w         p          w   \n",
       "\n",
       "  ring_number ring_type spore_print_color population habitat  \n",
       "0           o         p                 n          n       g  \n",
       "1           o         p                 n          n       m  \n",
       "2           o         p                 k          s       u  \n",
       "3           o         e                 n          a       g  \n",
       "4           o         p                 k          n       g  \n",
       "\n",
       "[5 rows x 23 columns]"
      ]
     },
     "execution_count": 3,
     "metadata": {},
     "output_type": "execute_result"
    }
   ],
   "source": [
    "X.columns = ['classification', 'cap_shape', 'cap_surface', 'cap_color', 'bruises', 'odor', 'gill_attachment', 'gill_spacing', 'gill_size', 'gill_color', 'stalk_shape', 'stalk_root', 'stalk_surface_above_ring', 'stalk_surface_below_ring', 'stalk_color_above_ring', 'stalk_color_below_ring', 'veil_type', 'veil_color', 'ring_number', 'ring_type', 'spore_print_color', 'population', 'habitat']\n",
    "X.head()"
   ]
  },
  {
   "cell_type": "markdown",
   "metadata": {},
   "source": [
    "Eliminiamo i valori con NA."
   ]
  },
  {
   "cell_type": "code",
   "execution_count": 4,
   "metadata": {},
   "outputs": [
    {
     "name": "stdout",
     "output_type": "stream",
     "text": [
      "Old dataset's shape: (8123, 23)\n",
      "New dataset's shape: (5643, 23)\n"
     ]
    }
   ],
   "source": [
    "print(\"Old dataset's shape:\", X.shape)\n",
    "X = X.dropna()\n",
    "print(\"New dataset's shape:\", X.shape)"
   ]
  },
  {
   "cell_type": "markdown",
   "metadata": {},
   "source": [
    "Copiamo le etichette della classificazione in un'altra variabile `y` e rimuoviamoli dal dataset `X`.\n",
    "\n",
    "Possiamo quindi encodare le etichette usando la funzione `.map()`."
   ]
  },
  {
   "cell_type": "code",
   "execution_count": 16,
   "metadata": {},
   "outputs": [],
   "source": [
    "y = pd.DataFrame(X['classification'].copy())\n",
    "y.classification = y.classification.map({'e':0, 'p':1})\n",
    "X = X.drop(['classification'], axis = 1)\n",
    "#get_dummies -> Convert categorical variable into dummy/indicator variables\n",
    "X = pd.get_dummies(X, columns=['cap_shape', 'cap_surface', 'cap_color', 'bruises', 'odor', 'gill_attachment', 'gill_spacing', 'gill_size', 'gill_color', 'stalk_shape', 'stalk_root', 'stalk_surface_above_ring', 'stalk_surface_below_ring', 'stalk_color_above_ring', 'stalk_color_below_ring', 'veil_type', 'veil_color', 'ring_number', 'ring_type', 'spore_print_color', 'population', 'habitat'])"
   ]
  },
  {
   "cell_type": "markdown",
   "metadata": {},
   "source": [
    "Dividiamo i nostri dati in due sottoinsiemi: `test` e `train`. La numerosità di `test` dovrebbe essere circa il 30%."
   ]
  },
  {
   "cell_type": "code",
   "execution_count": 17,
   "metadata": {},
   "outputs": [],
   "source": [
    "from sklearn.model_selection import train_test_split\n",
    "\n",
    "X_train, X_test, y_train, y_test = train_test_split(X, y, test_size=0.3)"
   ]
  },
  {
   "cell_type": "markdown",
   "metadata": {},
   "source": [
    "Creiamo un classificatore DT:"
   ]
  },
  {
   "cell_type": "code",
   "execution_count": 18,
   "metadata": {},
   "outputs": [],
   "source": [
    "def dct_f(X_train, y_train):\n",
    "    dct = tree.DecisionTreeClassifier()\n",
    "    dct.fit(X_train, y_train)\n",
    "    \n",
    "    DecisionTreeClassifier(criterion='entropy', splitter='best', max_depth=9, \n",
    "                           min_samples_split=2, min_samples_leaf=1, min_weight_fraction_leaf=0.0, max_features=None, \n",
    "                           random_state=None, max_leaf_nodes=None, min_impurity_decrease=0.0, min_impurity_split=None, \n",
    "                           class_weight=None, presort=False)\n",
    "    \n",
    "    return dct"
   ]
  },
  {
   "cell_type": "markdown",
   "metadata": {},
   "source": [
    "A questo punto possiamo addestrare il classificatore sui dati training; successivamente possiamo utilizzare il classificatore sull'intero dataset di test:"
   ]
  },
  {
   "cell_type": "code",
   "execution_count": 19,
   "metadata": {},
   "outputs": [
    {
     "name": "stdout",
     "output_type": "stream",
     "text": [
      "High-Dimensionality Score: 1.0\n"
     ]
    }
   ],
   "source": [
    "dct = dct_f(X_train, y_train)\n",
    "score = dct.score(X_test, y_test)\n",
    "print(\"High-Dimensionality Score:\", score)"
   ]
  },
  {
   "cell_type": "markdown",
   "metadata": {},
   "source": [
    "Usa il codice sulla pagina SciKit-Learn del corso per produrre un file .DOT, quindi renderizza il file .DOT in .PNGs.\n",
    "\n",
    "Avrai bisogno di graphviz installato per farlo. Su macOS, puoi `brew install graphviz`. Su Windows 10, graphviz si installa tramite un programma di installazione .msi che è possibile scaricare dal sito Web graphviz. Inoltre, un editor grafico, gvedit.exe può essere utilizzato per visualizzare l'albero direttamente dal file tree.dot esportato senza dover effettuare una chiamata. Su altri sistemi, usa comandi analoghi.\n",
    "\n",
    "Se incontri problemi con l'installazione di graphviz o non ne detieni i diritti, puoi sempre visualizzare il tuo file .dot sul sito web: http://webgraphviz.com/."
   ]
  },
  {
   "cell_type": "code",
   "execution_count": 20,
   "metadata": {},
   "outputs": [],
   "source": [
    "# With the following sintax we will create a .dot file with the code for visualizing th tree\n",
    "tree.export_graphviz(dct, out_file='out/tree.dot', feature_names=X.columns)"
   ]
  },
  {
   "cell_type": "markdown",
   "metadata": {},
   "source": [
    "Possiamo utilizzare il sito Web: http://webgraphviz.com/ e allegare il codice per visualizzare il seguente albero. <br>\n",
    "<img src=\"img/decision_tree_3.jpg\">"
   ]
  },
  {
   "cell_type": "markdown",
   "metadata": {},
   "source": [
    "[Clicca qui per tornare all'inizio della pagina](#start)<a id='start'></a>"
   ]
  }
 ],
 "metadata": {
  "kernelspec": {
   "display_name": "Python 3",
   "language": "python",
   "name": "python3"
  },
  "language_info": {
   "codemirror_mode": {
    "name": "ipython",
    "version": 3
   },
   "file_extension": ".py",
   "mimetype": "text/x-python",
   "name": "python",
   "nbconvert_exporter": "python",
   "pygments_lexer": "ipython3",
   "version": "3.7.1"
  }
 },
 "nbformat": 4,
 "nbformat_minor": 2
}
